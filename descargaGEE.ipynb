{
 "cells": [
  {
   "cell_type": "code",
   "execution_count": 4,
   "metadata": {},
   "outputs": [],
   "source": [
    "import ee\n",
    "import geemap\n",
    "import os\n",
    "from datetime import datetime"
   ]
  },
  {
   "cell_type": "code",
   "execution_count": 5,
   "metadata": {},
   "outputs": [],
   "source": [
    "# Configuración de variables\n",
    "\n",
    "Coleccion = \"IDAHO_EPSCOR/TERRACLIMATE\"\n",
    "geometry = \"data/Comunas/Lim_comunas.shp\"\n",
    "estadistica = \"MEAN\"\n",
    "escala = 1000\n",
    "startDate = \"2000-01-01\"\n",
    "rutaDescarga = \"data/descarga_terraclimate\""
   ]
  },
  {
   "cell_type": "code",
   "execution_count": 6,
   "metadata": {},
   "outputs": [],
   "source": [
    "def DescargaDatos():\n",
    "    Map = geemap.Map()\n",
    "    landcoverColection = ee.ImageCollection(Coleccion)\n",
    "    fecha_inicio = startDate\n",
    "    fecha_final = datetime.now().strftime(\"%Y-%m-%d\")\n",
    "    limites = geemap.shp_to_ee(geometry)\n",
    "    out_dir = os.path.join(rutaDescarga)\n",
    "    if not os.path.exists(out_dir):\n",
    "        os.makedirs(out_dir)\n",
    "    nombre_archivo = Coleccion.split(\"/\")[1]\n",
    "    \n",
    "    for band in landcoverColection.first().bandNames().getInfo():\n",
    "        print(f\"Descargando los datos de {estadistica} correspondiente a la banda {band}\")\n",
    "        landcover = landcoverColection.select(band).filter(ee.Filter.date(fecha_inicio, fecha_final))\n",
    "        out_dem_stats = os.path.join(out_dir, f'{nombre_archivo}_{band}.csv')\n",
    "        geemap.zonal_statistics(landcover, limites, out_dem_stats, statistics_type=estadistica, scale=escala)\n",
    "    return nombre_archivo\n",
    "    "
   ]
  },
  {
   "cell_type": "code",
   "execution_count": 7,
   "metadata": {},
   "outputs": [
    {
     "name": "stdout",
     "output_type": "stream",
     "text": [
      "Descargando los datos de MEAN correspondiente a la banda aet\n",
      "Computing statistics ...\n",
      "Generating URL ...\n",
      "Downloading data from https://earthengine.googleapis.com/v1alpha/projects/earthengine-legacy/tables/0f2db70e91064134c9d9b3fc56542f67-d92d12b6f05eca60f2e2d78e1f714551:getFeatures\n",
      "Please wait ...\n",
      "Data downloaded to C:\\Users\\Hector\\Desktop\\DI\\Notebooks\\descargas_gee\\hidricos\\data\\descarga_terraclimate\\TERRACLIMATE_aet.csv\n",
      "Descargando los datos de MEAN correspondiente a la banda def\n",
      "Computing statistics ...\n",
      "Generating URL ...\n",
      "Downloading data from https://earthengine.googleapis.com/v1alpha/projects/earthengine-legacy/tables/399c3e0a48fff017edd673f70d85a195-a605ac84752940e9e304f6b09a861f71:getFeatures\n",
      "Please wait ...\n",
      "Data downloaded to C:\\Users\\Hector\\Desktop\\DI\\Notebooks\\descargas_gee\\hidricos\\data\\descarga_terraclimate\\TERRACLIMATE_def.csv\n",
      "Descargando los datos de MEAN correspondiente a la banda pdsi\n",
      "Computing statistics ...\n",
      "Generating URL ...\n",
      "Downloading data from https://earthengine.googleapis.com/v1alpha/projects/earthengine-legacy/tables/aa7fb4c3f3090681ec0dac63cf07de36-20d48fe227039c6331ebe6b84b87775c:getFeatures\n",
      "Please wait ...\n",
      "Data downloaded to C:\\Users\\Hector\\Desktop\\DI\\Notebooks\\descargas_gee\\hidricos\\data\\descarga_terraclimate\\TERRACLIMATE_pdsi.csv\n",
      "Descargando los datos de MEAN correspondiente a la banda pet\n",
      "Computing statistics ...\n",
      "Generating URL ...\n",
      "Downloading data from https://earthengine.googleapis.com/v1alpha/projects/earthengine-legacy/tables/a3de1a88c3df3d3d258b04fa0e11a24f-a14c85493920b0e68441a2bbc4384e71:getFeatures\n",
      "Please wait ...\n",
      "Data downloaded to C:\\Users\\Hector\\Desktop\\DI\\Notebooks\\descargas_gee\\hidricos\\data\\descarga_terraclimate\\TERRACLIMATE_pet.csv\n",
      "Descargando los datos de MEAN correspondiente a la banda pr\n",
      "Computing statistics ...\n",
      "Generating URL ...\n",
      "Downloading data from https://earthengine.googleapis.com/v1alpha/projects/earthengine-legacy/tables/e010b5ea7c11e71d142a65b3d131f2b7-2960b454cb4664f5f5717d3c7f4202bc:getFeatures\n",
      "Please wait ...\n",
      "Data downloaded to C:\\Users\\Hector\\Desktop\\DI\\Notebooks\\descargas_gee\\hidricos\\data\\descarga_terraclimate\\TERRACLIMATE_pr.csv\n",
      "Descargando los datos de MEAN correspondiente a la banda ro\n",
      "Computing statistics ...\n",
      "Generating URL ...\n",
      "Downloading data from https://earthengine.googleapis.com/v1alpha/projects/earthengine-legacy/tables/9f374636a8d52d6bcd0e0568b138c894-6e0e7d5460ccf58c8fd339842a36df11:getFeatures\n",
      "Please wait ...\n",
      "Data downloaded to C:\\Users\\Hector\\Desktop\\DI\\Notebooks\\descargas_gee\\hidricos\\data\\descarga_terraclimate\\TERRACLIMATE_ro.csv\n",
      "Descargando los datos de MEAN correspondiente a la banda soil\n",
      "Computing statistics ...\n",
      "Generating URL ...\n",
      "Downloading data from https://earthengine.googleapis.com/v1alpha/projects/earthengine-legacy/tables/7689abd95ec6e1d8d9f1144bcc7ad8e0-812448d7532a6268b6a8ee41be780bd1:getFeatures\n",
      "Please wait ...\n",
      "Data downloaded to C:\\Users\\Hector\\Desktop\\DI\\Notebooks\\descargas_gee\\hidricos\\data\\descarga_terraclimate\\TERRACLIMATE_soil.csv\n",
      "Descargando los datos de MEAN correspondiente a la banda srad\n",
      "Computing statistics ...\n",
      "Generating URL ...\n",
      "Downloading data from https://earthengine.googleapis.com/v1alpha/projects/earthengine-legacy/tables/566b6cb36f6b1012cc8168e52aff820f-0adf9910237e2dfd63b1adb912356cbe:getFeatures\n",
      "Please wait ...\n",
      "Data downloaded to C:\\Users\\Hector\\Desktop\\DI\\Notebooks\\descargas_gee\\hidricos\\data\\descarga_terraclimate\\TERRACLIMATE_srad.csv\n",
      "Descargando los datos de MEAN correspondiente a la banda swe\n",
      "Computing statistics ...\n",
      "Generating URL ...\n",
      "Downloading data from https://earthengine.googleapis.com/v1alpha/projects/earthengine-legacy/tables/c1c02cd96bc741b8a59640b5a3efd9a0-128700826c2c7dc1dafb258f30b0a8b2:getFeatures\n",
      "Please wait ...\n",
      "Data downloaded to C:\\Users\\Hector\\Desktop\\DI\\Notebooks\\descargas_gee\\hidricos\\data\\descarga_terraclimate\\TERRACLIMATE_swe.csv\n",
      "Descargando los datos de MEAN correspondiente a la banda tmmn\n",
      "Computing statistics ...\n",
      "Generating URL ...\n",
      "Downloading data from https://earthengine.googleapis.com/v1alpha/projects/earthengine-legacy/tables/4525f150250a9bdbcc390988e5276a1f-a0695342e2c42709f30c1ba2581f496b:getFeatures\n",
      "Please wait ...\n",
      "Data downloaded to C:\\Users\\Hector\\Desktop\\DI\\Notebooks\\descargas_gee\\hidricos\\data\\descarga_terraclimate\\TERRACLIMATE_tmmn.csv\n",
      "Descargando los datos de MEAN correspondiente a la banda tmmx\n",
      "Computing statistics ...\n",
      "Generating URL ...\n",
      "Downloading data from https://earthengine.googleapis.com/v1alpha/projects/earthengine-legacy/tables/579c35b6cd1ccb6c68df6e74ad751752-f64f4fb442a67bd7551f2b027f6df298:getFeatures\n",
      "Please wait ...\n",
      "Data downloaded to C:\\Users\\Hector\\Desktop\\DI\\Notebooks\\descargas_gee\\hidricos\\data\\descarga_terraclimate\\TERRACLIMATE_tmmx.csv\n",
      "Descargando los datos de MEAN correspondiente a la banda vap\n",
      "Computing statistics ...\n",
      "Generating URL ...\n",
      "Downloading data from https://earthengine.googleapis.com/v1alpha/projects/earthengine-legacy/tables/601757f3165649cfc8978b113fe8b5dd-565b1859c640efc9f89474b051f1ac1a:getFeatures\n",
      "Please wait ...\n",
      "Data downloaded to C:\\Users\\Hector\\Desktop\\DI\\Notebooks\\descargas_gee\\hidricos\\data\\descarga_terraclimate\\TERRACLIMATE_vap.csv\n",
      "Descargando los datos de MEAN correspondiente a la banda vpd\n",
      "Computing statistics ...\n",
      "Generating URL ...\n",
      "Downloading data from https://earthengine.googleapis.com/v1alpha/projects/earthengine-legacy/tables/12e0cee8c1a03c68f2e526f81d6371d1-7bdb4b80efdeeada10b15ecb2a32d3a1:getFeatures\n",
      "Please wait ...\n",
      "Data downloaded to C:\\Users\\Hector\\Desktop\\DI\\Notebooks\\descargas_gee\\hidricos\\data\\descarga_terraclimate\\TERRACLIMATE_vpd.csv\n",
      "Descargando los datos de MEAN correspondiente a la banda vs\n",
      "Computing statistics ...\n",
      "Generating URL ...\n",
      "Downloading data from https://earthengine.googleapis.com/v1alpha/projects/earthengine-legacy/tables/0b46993b906769d434df952f5553a5c1-5afe51da6c766e1342187b8b6de31ed4:getFeatures\n",
      "Please wait ...\n",
      "Data downloaded to C:\\Users\\Hector\\Desktop\\DI\\Notebooks\\descargas_gee\\hidricos\\data\\descarga_terraclimate\\TERRACLIMATE_vs.csv\n"
     ]
    },
    {
     "data": {
      "text/plain": [
       "'TERRACLIMATE'"
      ]
     },
     "execution_count": 7,
     "metadata": {},
     "output_type": "execute_result"
    }
   ],
   "source": [
    "DescargaDatos()"
   ]
  },
  {
   "cell_type": "code",
   "execution_count": null,
   "metadata": {},
   "outputs": [],
   "source": []
  }
 ],
 "metadata": {
  "kernelspec": {
   "display_name": "Python 3",
   "language": "python",
   "name": "python3"
  },
  "language_info": {
   "codemirror_mode": {
    "name": "ipython",
    "version": 3
   },
   "file_extension": ".py",
   "mimetype": "text/x-python",
   "name": "python",
   "nbconvert_exporter": "python",
   "pygments_lexer": "ipython3",
   "version": "3.8.8"
  }
 },
 "nbformat": 4,
 "nbformat_minor": 4
}
